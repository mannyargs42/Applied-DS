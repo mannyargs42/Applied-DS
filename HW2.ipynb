{
 "cells": [
  {
   "cell_type": "markdown",
   "metadata": {},
   "source": [
    "## PHYS247-Summer 2021: Homework 2 solution"
   ]
  },
  {
   "cell_type": "code",
   "execution_count": 230,
   "metadata": {},
   "outputs": [],
   "source": [
    "import numpy as np\n",
    "import matplotlib.pylab as plt\n",
    "import pandas as pd\n",
    "from scipy.stats import poisson\n",
    "plt.rc('font', family='serif', size='15')"
   ]
  },
  {
   "cell_type": "markdown",
   "metadata": {},
   "source": [
    "Let's read the tweet_count data:"
   ]
  },
  {
   "cell_type": "markdown",
   "metadata": {},
   "source": [
    "## a)"
   ]
  },
  {
   "cell_type": "code",
   "execution_count": 231,
   "metadata": {},
   "outputs": [],
   "source": [
    "data=pd.read_csv('tweet_counts.csv')"
   ]
  },
  {
   "cell_type": "code",
   "execution_count": 232,
   "metadata": {},
   "outputs": [
    {
     "data": {
      "text/html": [
       "<div>\n",
       "<style scoped>\n",
       "    .dataframe tbody tr th:only-of-type {\n",
       "        vertical-align: middle;\n",
       "    }\n",
       "\n",
       "    .dataframe tbody tr th {\n",
       "        vertical-align: top;\n",
       "    }\n",
       "\n",
       "    .dataframe thead th {\n",
       "        text-align: right;\n",
       "    }\n",
       "</style>\n",
       "<table border=\"1\" class=\"dataframe\">\n",
       "  <thead>\n",
       "    <tr style=\"text-align: right;\">\n",
       "      <th></th>\n",
       "      <th>week</th>\n",
       "      <th>count</th>\n",
       "    </tr>\n",
       "  </thead>\n",
       "  <tbody>\n",
       "    <tr>\n",
       "      <th>0</th>\n",
       "      <td>1</td>\n",
       "      <td>39.0</td>\n",
       "    </tr>\n",
       "    <tr>\n",
       "      <th>1</th>\n",
       "      <td>2</td>\n",
       "      <td>46.0</td>\n",
       "    </tr>\n",
       "    <tr>\n",
       "      <th>2</th>\n",
       "      <td>3</td>\n",
       "      <td>41.0</td>\n",
       "    </tr>\n",
       "    <tr>\n",
       "      <th>3</th>\n",
       "      <td>4</td>\n",
       "      <td>42.0</td>\n",
       "    </tr>\n",
       "    <tr>\n",
       "      <th>4</th>\n",
       "      <td>5</td>\n",
       "      <td>31.0</td>\n",
       "    </tr>\n",
       "  </tbody>\n",
       "</table>\n",
       "</div>"
      ],
      "text/plain": [
       "   week  count\n",
       "0     1   39.0\n",
       "1     2   46.0\n",
       "2     3   41.0\n",
       "3     4   42.0\n",
       "4     5   31.0"
      ]
     },
     "execution_count": 232,
     "metadata": {},
     "output_type": "execute_result"
    }
   ],
   "source": [
    "data.head()"
   ]
  },
  {
   "cell_type": "markdown",
   "metadata": {},
   "source": [
    "Let's create two variables (k and w) which show tweet counts and the number of week"
   ]
  },
  {
   "cell_type": "code",
   "execution_count": 233,
   "metadata": {},
   "outputs": [],
   "source": [
    "k=data['count'].values\n",
    "w=data['week'].values"
   ]
  },
  {
   "cell_type": "markdown",
   "metadata": {},
   "source": [
    "## b)"
   ]
  },
  {
   "cell_type": "code",
   "execution_count": 234,
   "metadata": {},
   "outputs": [
    {
     "data": {
      "text/plain": [
       "Text(0.5, 0, 'Week')"
      ]
     },
     "execution_count": 234,
     "metadata": {},
     "output_type": "execute_result"
    },
    {
     "data": {
      "image/png": "[encoded data removed]",
      "text/plain": [
       "<Figure size 1332x324 with 1 Axes>"
      ]
     },
     "metadata": {
      "needs_background": "light"
     },
     "output_type": "display_data"
    }
   ],
   "source": [
    "fig, ax = plt.subplots(1,1,  figsize=(18.5,4.5))\n",
    "\n",
    "xmajor = np.arange(0,53,4)\n",
    "xminor = np.arange(0,53,1)\n",
    "\n",
    "ymajor = np.arange(0,55,10)\n",
    "yminor = np.arange(0,55,2)\n",
    "\n",
    "ax.set_xticks(xmajor)\n",
    "ax.set_xticks(xminor,minor=True)\n",
    "ax.set_yticks(ymajor)\n",
    "ax.set_yticks(yminor,minor=True)\n",
    "\n",
    "\n",
    "ax.bar(w,k,edgecolor='black')\n",
    "ax.set_xlim(0.001,53)\n",
    "ax.tick_params(which = 'major',direction='in',right='on',top='on',length=6,width=1.3,labelsize=16)\n",
    "ax.tick_params(which = 'minor',direction='in',right='on',top='on',length=3,width=0.5)\n",
    "\n",
    "plt.axhline(np.mean(k),-1,54,c='red',linestyle='--',linewidth=4,alpha=0.5)\n",
    "ax.set_ylabel('Number of tweets',fontsize=20)\n",
    "ax.set_xlabel('Week',fontsize=20)\n",
    "# plt.savefig('tweets.png',dpi=200)"
   ]
  },
  {
   "cell_type": "markdown",
   "metadata": {},
   "source": [
    "## C)"
   ]
  },
  {
   "cell_type": "markdown",
   "metadata": {},
   "source": [
    "$E(\\lambda)=\\int_{0}^{\\infty} \\lambda P(\\lambda) d\\lambda=\\int_{0}^{\\infty} \\lambda \\alpha e^{-\\alpha\\lambda} d\\lambda$, Define $x:=\\lambda \\alpha \\Rightarrow \\int_{0}^{\\infty} x e^{-x} {dx\\over\\alpha}={1\\over \\alpha}[-e^{-x}(1+x)]_{0}^{\\infty}={1\\over \\alpha}$"
   ]
  },
  {
   "cell_type": "markdown",
   "metadata": {},
   "source": [
    "## d)"
   ]
  },
  {
   "cell_type": "code",
   "execution_count": 23,
   "metadata": {},
   "outputs": [
    {
     "name": "stdout",
     "output_type": "stream",
     "text": [
      "0.025793650793650796\n"
     ]
    }
   ],
   "source": [
    "α=1/np.mean(k)\n",
    "print(α)"
   ]
  },
  {
   "cell_type": "markdown",
   "metadata": {},
   "source": [
    "## e)"
   ]
  },
  {
   "cell_type": "markdown",
   "metadata": {},
   "source": [
    "We define parameter space as (λ1_est,λ2_est,Ws_est) where we want to compute the posteriors"
   ]
  },
  {
   "cell_type": "code",
   "execution_count": 13,
   "metadata": {},
   "outputs": [],
   "source": [
    "λ1_est=np.linspace(25,50,50)\n",
    "λ2_est=np.linspace(25,50,50)\n",
    "Ws_est=np.arange(1,53,1)"
   ]
  },
  {
   "cell_type": "markdown",
   "metadata": {},
   "source": [
    "In the definition of the parameter space we assumed that the posterior of λ1 and λ2 are zero beyond the range of (25,50). Now go ahead and make a meshgrid to find the coordinate of every single point in the parameter space."
   ]
  },
  {
   "cell_type": "code",
   "execution_count": 16,
   "metadata": {},
   "outputs": [],
   "source": [
    "λ1_est_mesh,λ2_est_mesh, Ws_est_mesh,=np.meshgrid(λ1_est,λ2_est,Ws_est)"
   ]
  },
  {
   "cell_type": "markdown",
   "metadata": {},
   "source": [
    "Let's check the shape of λ1_est_mesh:"
   ]
  },
  {
   "cell_type": "code",
   "execution_count": 18,
   "metadata": {},
   "outputs": [
    {
     "data": {
      "text/plain": [
       "(50, 50, 52)"
      ]
     },
     "execution_count": 18,
     "metadata": {},
     "output_type": "execute_result"
    }
   ],
   "source": [
    "λ1_est_mesh.shape"
   ]
  },
  {
   "cell_type": "markdown",
   "metadata": {},
   "source": [
    "## f)"
   ]
  },
  {
   "cell_type": "code",
   "execution_count": 27,
   "metadata": {},
   "outputs": [],
   "source": [
    "Poisson=lambda k,λ: (λ**k)*np.exp(-λ)/np.math.factorial(k)\n",
    "Poisson=np.vectorize(Poisson)"
   ]
  },
  {
   "cell_type": "markdown",
   "metadata": {},
   "source": [
    "Unnormalized posterior function can be written as a product of priors and likelihoods. We should be careful that likelihood also depends on the value of W_s."
   ]
  },
  {
   "cell_type": "code",
   "execution_count": 29,
   "metadata": {},
   "outputs": [],
   "source": [
    "def Posterior(lamb1,lamb2,W_s):    \n",
    "    P=1\n",
    "    for i in k[w<W_s]:\n",
    "        \n",
    "        P=P*Poisson(i, lamb1)*α*np.exp(-α*lamb1)\n",
    "        \n",
    "    for j in k[w>=W_s]:\n",
    "        \n",
    "        P=P*Poisson(j, lamb2)*α*np.exp(-α*lamb2)\n",
    "    return(P)"
   ]
  },
  {
   "cell_type": "code",
   "execution_count": 31,
   "metadata": {},
   "outputs": [],
   "source": [
    "Posterior=np.vectorize(Posterior)"
   ]
  },
  {
   "cell_type": "markdown",
   "metadata": {},
   "source": [
    "Let's get the posterior for all the data points in the parameter space."
   ]
  },
  {
   "cell_type": "code",
   "execution_count": 32,
   "metadata": {},
   "outputs": [],
   "source": [
    "Post=Posterior(λ1_est_mesh, λ2_est_mesh, Ws_est_mesh)"
   ]
  },
  {
   "cell_type": "markdown",
   "metadata": {},
   "source": [
    "Now, we can get marginalized posteior for each parameter by summing up the posterior over two other parameters. "
   ]
  },
  {
   "cell_type": "code",
   "execution_count": 34,
   "metadata": {},
   "outputs": [],
   "source": [
    "Post_λ1=np.sum(np.sum(Post,axis=2).T,axis=1)/np.trapz(np.sum(np.sum(Post,axis=2).T,axis=1),λ1_est)\n",
    "Post_λ2=np.sum(np.sum(Post,axis=2),axis=1)/np.trapz(np.sum(np.sum(Post,axis=2),axis=1),λ2_est)"
   ]
  },
  {
   "cell_type": "markdown",
   "metadata": {},
   "source": [
    "Go ahead and plot the data"
   ]
  },
  {
   "cell_type": "code",
   "execution_count": 237,
   "metadata": {},
   "outputs": [
    {
     "data": {
      "image/png": "[encoded data removed]",
      "text/plain": [
       "<Figure size 576x432 with 1 Axes>"
      ]
     },
     "metadata": {
      "needs_background": "light"
     },
     "output_type": "display_data"
    }
   ],
   "source": [
    "plt.figure(figsize=(8,6))\n",
    "plt.plot(λ1_est,Post_λ1,label='$\\lambda_1$')\n",
    "plt.plot(λ2_est,Post_λ2,label='$\\lambda_2$')\n",
    "plt.text(λ1_est[np.argmax(Post_λ1)],np.max(Post_λ1),'λ1(mode)={:0.2f}'.format(λ1_est[np.argmax(Post_λ1)]),fontsize=15)\n",
    "plt.text(λ2_est[np.argmax(Post_λ2)],np.max(Post_λ2),'λ2(mode)={:0.2f}'.format(λ2_est[np.argmax(Post_λ2)]),fontsize=15)\n",
    "plt.ylim(-0.01,0.4)\n",
    "plt.xlabel('$\\lambda$',fontsize=15)\n",
    "plt.ylabel('$P(λ|data)$',fontsize=15)\n",
    "plt.show()"
   ]
  },
  {
   "cell_type": "markdown",
   "metadata": {},
   "source": [
    "It seems that the difference of λ1 and λ2 are significant. Let's find when did this sudden change happen in Bob's tweeting habit."
   ]
  },
  {
   "cell_type": "code",
   "execution_count": 238,
   "metadata": {},
   "outputs": [
    {
     "data": {
      "text/plain": [
       "<BarContainer object of 52 artists>"
      ]
     },
     "execution_count": 238,
     "metadata": {},
     "output_type": "execute_result"
    },
    {
     "data": {
      "image/png": "[encoded data removed]",
      "text/plain": [
       "<Figure size 576x288 with 1 Axes>"
      ]
     },
     "metadata": {
      "needs_background": "light"
     },
     "output_type": "display_data"
    }
   ],
   "source": [
    "plt.figure(figsize=(8,4))\n",
    "Post_Ws=np.sum(np.sum(Post,axis=1),axis=0)/np.trapz(np.sum(np.sum(Post,axis=1),axis=0),Ws_est)\n",
    "plt.xlabel('$W_s$',fontsize=15)\n",
    "plt.ylabel('$P(W_s|data)$',fontsize=15)\n",
    "plt.bar(Ws_est,Post_Ws)"
   ]
  },
  {
   "cell_type": "markdown",
   "metadata": {},
   "source": [
    "Let's find the peak of the Ws posterior:"
   ]
  },
  {
   "cell_type": "code",
   "execution_count": 239,
   "metadata": {},
   "outputs": [
    {
     "name": "stdout",
     "output_type": "stream",
     "text": [
      "38\n"
     ]
    }
   ],
   "source": [
    "print(Ws_est[np.argmax(Post_Ws)])"
   ]
  },
  {
   "cell_type": "markdown",
   "metadata": {},
   "source": [
    "So, most likely his tweeting habit changed at week 38."
   ]
  },
  {
   "cell_type": "markdown",
   "metadata": {},
   "source": [
    "## g)"
   ]
  },
  {
   "cell_type": "markdown",
   "metadata": {},
   "source": [
    "Let's get the joint probability distribution for λ1 and λ2"
   ]
  },
  {
   "cell_type": "code",
   "execution_count": 242,
   "metadata": {},
   "outputs": [],
   "source": [
    "P_joint=np.sum(Post,axis=2)"
   ]
  },
  {
   "cell_type": "markdown",
   "metadata": {},
   "source": [
    "And, plot it. I also plotted a white line which shows a boundary where all the points above the line satisfy $(\\lambda_2-\\lambda_1)>5$"
   ]
  },
  {
   "cell_type": "code",
   "execution_count": 243,
   "metadata": {},
   "outputs": [
    {
     "data": {
      "image/png": "[encoded data removed]",
      "text/plain": [
       "<Figure size 576x576 with 1 Axes>"
      ]
     },
     "metadata": {
      "needs_background": "light"
     },
     "output_type": "display_data"
    }
   ],
   "source": [
    "plt.figure(figsize=(8,8))\n",
    "plt.imshow(P_joint,extent=[min(λ2_est),max(λ2_est),min(λ1_est),max(λ1_est)],origin='lower')\n",
    "plt.xlabel(\"$\\lambda_1$\",fontsize=20)\n",
    "plt.ylabel(\"$\\lambda_2$\",fontsize=20)\n",
    "\n",
    "f=lambda x:x+5\n",
    "plt.plot(λ1_est,f(λ1_est),linewidth=3,c='white')\n",
    "\n",
    "plt.xlim(25,50)\n",
    "plt.ylim(25,50)\n",
    "plt.show()\n"
   ]
  },
  {
   "cell_type": "markdown",
   "metadata": {},
   "source": [
    "To get $P[(\\lambda_2-\\lambda_1)>5]$ sum up all the values of posterior above the white line and divide it by the value of all the points in the joint probability"
   ]
  },
  {
   "cell_type": "code",
   "execution_count": 244,
   "metadata": {},
   "outputs": [],
   "source": [
    "P_above_white_line=0\n",
    "for i,λ1 in enumerate(λ1_est):\n",
    "    for j,λ2 in enumerate(λ2_est):\n",
    "        if (λ2-λ1)>5:\n",
    "            P_above_white_line+=P_joint[j,i]          "
   ]
  },
  {
   "cell_type": "code",
   "execution_count": 245,
   "metadata": {},
   "outputs": [
    {
     "name": "stdout",
     "output_type": "stream",
     "text": [
      "0.627288368145252\n"
     ]
    }
   ],
   "source": [
    "Probability=P_above_white_line/np.sum(P_joint)\n",
    "print(Probability)"
   ]
  },
  {
   "cell_type": "markdown",
   "metadata": {},
   "source": [
    "So, $P[(\\lambda_2-\\lambda_1)>5]\\sim 63\\%$"
   ]
  }
 ],
 "metadata": {
  "kernelspec": {
   "display_name": "Python 3",
   "language": "python",
   "name": "python3"
  },
  "language_info": {
   "codemirror_mode": {
    "name": "ipython",
    "version": 3
   },
   "file_extension": ".py",
   "mimetype": "text/x-python",
   "name": "python",
   "nbconvert_exporter": "python",
   "pygments_lexer": "ipython3",
   "version": "3.7.6"
  }
 },
 "nbformat": 4,
 "nbformat_minor": 4
}
